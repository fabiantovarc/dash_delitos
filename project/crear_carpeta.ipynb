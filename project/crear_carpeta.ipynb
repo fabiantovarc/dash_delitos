{
 "cells": [
  {
   "cell_type": "code",
   "execution_count": 1,
   "metadata": {},
   "outputs": [
    {
     "name": "stdout",
     "output_type": "stream",
     "text": [
      "Archivos __init__.py creados correctamente en las carpetas especificadas.\n"
     ]
    }
   ],
   "source": [
    "import os\n",
    "\n",
    "# Definir la ruta base\n",
    "base_path = \"/media/fabian/INFO/Universidad externado/ML/dash_prueba/project\"\n",
    "\n",
    "# Lista de carpetas donde se deben crear los archivos __init__.py\n",
    "folders = [\n",
    "    \"components\",\n",
    "    \"components/kpi\",\n",
    "    \"components/maps\",\n",
    "    \"pages\"\n",
    "]\n",
    "\n",
    "# Crear los archivos __init__.py en las carpetas especificadas\n",
    "for folder in folders:\n",
    "    folder_path = os.path.join(base_path, folder)\n",
    "    init_file_path = os.path.join(folder_path, \"__init__.py\")\n",
    "    \n",
    "    # Verificar si la carpeta existe antes de crear el archivo\n",
    "    if os.path.exists(folder_path):\n",
    "        with open(init_file_path, \"w\") as f:\n",
    "            pass  # Crear un archivo vacío\n",
    "    else:\n",
    "        print(f\"La carpeta {folder_path} no existe.\")\n",
    "\n",
    "# Confirmación de finalización\n",
    "print(\"Archivos __init__.py creados correctamente en las carpetas especificadas.\")\n"
   ]
  }
 ],
 "metadata": {
  "kernelspec": {
   "display_name": "dash_env",
   "language": "python",
   "name": "python3"
  },
  "language_info": {
   "codemirror_mode": {
    "name": "ipython",
    "version": 3
   },
   "file_extension": ".py",
   "mimetype": "text/x-python",
   "name": "python",
   "nbconvert_exporter": "python",
   "pygments_lexer": "ipython3",
   "version": "3.12.9"
  }
 },
 "nbformat": 4,
 "nbformat_minor": 2
}
